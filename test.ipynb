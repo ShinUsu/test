{
 "cells": [
  {
   "cell_type": "code",
   "execution_count": 3,
   "metadata": {},
   "outputs": [],
   "source": [
    "import numpy as np\n",
    "import pandas as pd\n",
    "from sklearn.datasets import load_breast_cancer\n",
    "from sklearn.preprocessing import StandardScaler\n",
    "from sklearn.neighbors import KNeighborsClassifier\n",
    "from sklearn.linear_model import LogisticRegression\n",
    "from sklearn.ensemble import GradientBoostingClassifier\n",
    "from sklearn.pipeline import Pipeline\n",
    "from sklearn.model_selection import train_test_split\n",
    "from sklearn.metrics import accuracy_score   \n",
    "from sklearn.metrics import r2_score\n",
    "from sklearn.metrics import accuracy_score,roc_auc_score"
   ]
  },
  {
   "cell_type": "code",
   "execution_count": 4,
   "metadata": {},
   "outputs": [],
   "source": [
    "# import Sample Data to learn models\n",
    "dataset = load_breast_cancer()\n",
    "X = pd.DataFrame(dataset.data, columns=dataset.feature_names)\n",
    "y = pd.DataFrame(dataset.target, columns=['y'])\n",
    "\n",
    "# cross-validation by holdout\n",
    "X_train,X_test,y_train,y_test = train_test_split(X,\n",
    "                                                 y,\n",
    "                                                 test_size=0.20,\n",
    "                                                 random_state=1)\n",
    "\n",
    "y_true = y_test.as_matrix().ravel()"
   ]
  },
  {
   "cell_type": "code",
   "execution_count": 6,
   "metadata": {},
   "outputs": [
    {
     "data": {
      "text/plain": [
       "array([1, 0, 1, 0, 0, 0, 0, 0, 1, 1, 1, 0, 0, 1, 1, 1, 1, 1, 1, 0, 1, 1,\n",
       "       0, 1, 0, 1, 1, 0, 0, 0, 0, 1, 0, 0, 1, 1, 0, 1, 0, 1, 1, 1, 1, 1,\n",
       "       1, 0, 1, 1, 1, 0, 0, 0, 1, 1, 1, 1, 1, 0, 1, 1, 1, 0, 1, 1, 1, 1,\n",
       "       1, 0, 1, 1, 1, 1, 0, 0, 1, 0, 0, 0, 1, 0, 1, 0, 1, 0, 1, 1, 0, 1,\n",
       "       0, 1, 1, 0, 1, 1, 0, 0, 1, 1, 1, 1, 1, 1, 1, 1, 1, 1, 1, 1, 0, 0,\n",
       "       0, 1, 1, 1])"
      ]
     },
     "execution_count": 6,
     "metadata": {},
     "output_type": "execute_result"
    }
   ],
   "source": [
    "y_true"
   ]
  },
  {
   "cell_type": "code",
   "execution_count": 9,
   "metadata": {},
   "outputs": [
    {
     "name": "stdout",
     "output_type": "stream",
     "text": [
      "評価指標を選択 : 1・AUC　2・正解率\n",
      "1\n",
      "AUC of knn: 0.940476\n",
      "AUC of logistic: 0.976190\n",
      "AUC of gbc: 0.952381\n",
      "Best score of roc_auc_score is \"logistic\"\n"
     ]
    }
   ],
   "source": [
    "\n",
    "#algorithm\n",
    "algorithm={\n",
    "    'knn':'KNeighborsClassifier()'\n",
    "    ,'logistic':'LogisticRegression()'\n",
    "    ,'gbc':'GradientBoostingClassifier()'\n",
    "    }\n",
    "\n",
    "#評価指標\n",
    "index={\n",
    "    1:'roc_auc_score',2:'accuracy_score'\n",
    "    }\n",
    "\n",
    "select=input('評価指標を選択 : 1・AUC　2・正解率\\n')\n",
    "\n",
    "if select=='1':\n",
    "    index_name='AUC'\n",
    "elif select=='2':    \n",
    "    index_name='ACCURACY'\n",
    "else:\n",
    "    index_name=''\n",
    "    \n",
    "#指標が正しく設定されていたら\n",
    "if index_name!='':\n",
    "    score={}\n",
    "    for k, v in algorithm.items():   # for/if文では文末のコロン「:」を忘れないように\n",
    "\n",
    "        exec(\"pipe_\" + k + ' = Pipeline([(\\'scl\\',StandardScaler()),(\\'est\\','  + v + ')])')\n",
    "        exec(\"pipe_\" + k + '.fit(X_train, y_train.as_matrix().ravel())')\n",
    "        exec(\"print(\\'\" + index_name + \" of \" + k+ \": %.6f\\' % \"+ index[int(select)] +\"(y_true, pipe_\" +k+ \".predict(X_test)))\")\n",
    "        \n",
    "        exec(\"score['\"+k+\"']= \"+index[int(select)] +\"(y_true, pipe_\" +k+ \".predict(X_test))\")\n",
    "        \n",
    "    max_val = max(score.values())\n",
    "    keys_of_max_val = [key for key in score if score[key] == max_val]\n",
    "    print(\"Best score of \"+ index[int(select)] +\" is \\\"\" +keys_of_max_val[0] +\"\\\"\")     \n",
    "        \n",
    "else:\n",
    "    print(\"正しい数値を選択してください\")"
   ]
  },
  {
   "cell_type": "code",
   "execution_count": 2,
   "metadata": {},
   "outputs": [],
   "source": []
  },
  {
   "cell_type": "markdown",
   "metadata": {
    "collapsed": true
   },
   "source": [
    "## "
   ]
  }
 ],
 "metadata": {
  "kernelspec": {
   "display_name": "Python 3",
   "language": "python",
   "name": "python3"
  },
  "language_info": {
   "codemirror_mode": {
    "name": "ipython",
    "version": 3
   },
   "file_extension": ".py",
   "mimetype": "text/x-python",
   "name": "python",
   "nbconvert_exporter": "python",
   "pygments_lexer": "ipython3",
   "version": "3.6.4"
  }
 },
 "nbformat": 4,
 "nbformat_minor": 2
}
